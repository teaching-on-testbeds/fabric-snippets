{
 "cells": [
  {
   "cell_type": "markdown",
   "metadata": {},
   "source": [
    "### Configure environment"
   ],
   "id": "95580641-19d8-40bc-98ea-b728dbd199ba"
  },
  {
   "cell_type": "code",
   "execution_count": null,
   "metadata": {},
   "outputs": [],
   "source": [
    "from fabrictestbed_extensions.fablib.fablib import FablibManager as fablib_manager\n",
    "fablib = fablib_manager() \n",
    "conf = fablib.show_config()"
   ],
   "id": "cbacf53b-302e-4330-b19e-038fd69db1c6"
  },
  {
   "cell_type": "markdown",
   "metadata": {},
   "source": [
    "### Define configuration for this experiment (example)"
   ],
   "id": "9b7086fc-1078-49c9-9ecf-62f34039faf4"
  },
  {
   "cell_type": "code",
   "execution_count": null,
   "metadata": {},
   "outputs": [],
   "source": [
    "slice_name=\"example-\" + fablib.get_bastion_username()\n",
    "\n",
    "node_conf = [\n",
    " {'name': \"romeo\",   'cores': 2, 'ram': 4, 'disk': 10, 'image': 'default_ubuntu_22', 'packages': ['mtr']}, \n",
    " {'name': \"juliet\",  'cores': 2, 'ram': 4, 'disk': 10, 'image': 'default_ubuntu_22', 'packages': []}, \n",
    " {'name': \"hamlet\",  'cores': 2, 'ram': 4, 'disk': 10, 'image': 'default_ubuntu_22', 'packages': []}, \n",
    " {'name': \"ophelia\", 'cores': 2, 'ram': 4, 'disk': 10, 'image': 'default_ubuntu_22', 'packages': []}, \n",
    " {'name': \"router\",  'cores': 2, 'ram': 4, 'disk': 10, 'image': 'default_ubuntu_22', 'packages': []}\n",
    "]\n",
    "net_conf = [\n",
    " {\"name\": \"net0\", \"subnet\": \"10.0.0.0/24\", \"nodes\": [{\"name\": \"romeo\",   \"addr\": \"10.0.0.100\"}, {\"name\": \"juliet\", \"addr\": None}, {\"name\": \"router\", \"addr\": \"10.0.0.1\"}]},\n",
    " {\"name\": \"net1\", \"subnet\": \"10.0.1.0/24\", \"nodes\": [{\"name\": \"hamlet\",   \"addr\": \"10.0.1.100\"}, {\"name\": \"ophelia\", \"addr\": \"10.0.1.101\"}, {\"name\": \"router\", \"addr\": \"10.0.1.1\"}]},\n",
    "]\n",
    "route_conf = [\n",
    " {\"addr\": \"10.0.1.0/24\", \"gw\": \"10.0.0.1\", \"nodes\": [\"romeo\"]}, \n",
    " {\"addr\": \"10.0.0.0/24\", \"gw\": \"10.0.1.1\", \"nodes\": [\"hamlet\", \"ophelia\"]}\n",
    "]\n",
    "exp_conf = {'cores': sum([ n['cores'] for n in node_conf]), 'nic': sum([len(n['nodes']) for n in net_conf]) }"
   ],
   "id": "931e62de-cc29-44e4-b81d-2d399f6e532a"
  },
  {
   "cell_type": "markdown",
   "metadata": {},
   "source": [
    "### Reserve resources\n",
    "\n",
    "Now, we are ready to reserve resources!"
   ],
   "id": "ef963c0c-e9ed-42bf-813b-81aa3c71361c"
  },
  {
   "cell_type": "markdown",
   "metadata": {},
   "source": [
    "First, make sure you don’t already have a slice with this name:"
   ],
   "id": "5b2b2abf-eef4-422d-9367-1c5c4637d6c9"
  },
  {
   "cell_type": "code",
   "execution_count": null,
   "metadata": {},
   "outputs": [],
   "source": [
    "try:\n",
    "    slice = fablib.get_slice(slice_name)\n",
    "    print(\"You already have a slice by this name!\")\n",
    "    print(\"If you previously reserved resources, skip to the 'log in to resources' section.\")\n",
    "except:\n",
    "    print(\"You don't have a slice named %s yet.\" % slice_name)\n",
    "    print(\"Continue to the next step to make one.\")\n",
    "    slice = fablib.new_slice(name=slice_name)"
   ],
   "id": "a7003181-aee7-4a8b-8f50-ce8c9af7b98e"
  },
  {
   "cell_type": "markdown",
   "metadata": {},
   "source": [
    "We will select a random site that has sufficient resources for our experiment:"
   ],
   "id": "69ad8f7f-4754-4350-af7d-de36abc1867f"
  },
  {
   "cell_type": "code",
   "execution_count": null,
   "metadata": {},
   "outputs": [],
   "source": [
    "while True:\n",
    "    site_name = fablib.get_random_site()\n",
    "    if ( (fablib.resources.get_core_available(site_name) > 1.2*exp_conf['cores']) and\n",
    "        (fablib.resources.get_component_available(site_name, 'SharedNIC-ConnectX-6') > 1.2**exp_conf['nic']) ):\n",
    "        break\n",
    "\n",
    "fablib.show_site(site_name)"
   ],
   "id": "9f880b73-0960-4d64-9660-d33caf1a5fc3"
  },
  {
   "cell_type": "markdown",
   "metadata": {},
   "source": [
    "Then we will add hosts and network segments:"
   ],
   "id": "dd2b3d7c-fdf2-42a2-9dc5-9c13bfe2843e"
  },
  {
   "cell_type": "code",
   "execution_count": null,
   "metadata": {},
   "outputs": [],
   "source": [
    "# this cell sets up the nodes\n",
    "for n in node_conf:\n",
    "    slice.add_node(name=n['name'], site=site_name, \n",
    "                   cores=n['cores'], \n",
    "                   ram=n['ram'], \n",
    "                   disk=n['disk'], \n",
    "                   image=n['image'])"
   ],
   "id": "fc356e1d-a697-4433-8f05-c336eb184cac"
  },
  {
   "cell_type": "code",
   "execution_count": null,
   "metadata": {},
   "outputs": [],
   "source": [
    "# this cell sets up the network segments\n",
    "for n in net_conf:\n",
    "    ifaces = [slice.get_node(node[\"name\"]).add_component(model=\"NIC_Basic\", \n",
    "                                                 name=n[\"name\"]).get_interfaces()[0] for node in n['nodes'] ]\n",
    "    slice.add_l2network(name=n[\"name\"], type='L2Bridge', interfaces=ifaces)"
   ],
   "id": "0c95226b-f4e7-4489-a2ae-cdf7aa63b4d1"
  },
  {
   "cell_type": "markdown",
   "metadata": {},
   "source": [
    "The following cell submits our request to the FABRIC site. The output of this cell will update automatically as the status of our request changes.\n",
    "\n",
    "-   While it is being prepared, the “State” of the slice will appear as “Configuring”.\n",
    "-   When it is ready, the “State” of the slice will change to “StableOK”.\n",
    "\n",
    "You may prefer to walk away and come back in a few minutes (for simple slices) or a few tens of minutes (for more complicated slices with many resources)."
   ],
   "id": "11a2cc51-3078-44fc-93b1-9d9968cbb123"
  },
  {
   "cell_type": "code",
   "execution_count": null,
   "metadata": {},
   "outputs": [],
   "source": [
    "slice.submit()"
   ],
   "id": "d8ba4806-ae45-4bbc-aff9-d65706e196b8"
  },
  {
   "cell_type": "code",
   "execution_count": null,
   "metadata": {},
   "outputs": [],
   "source": [
    "slice.get_state()\n",
    "slice.wait_ssh(progress=True)"
   ],
   "id": "92f72942-315a-4487-8a72-8e0988be8635"
  },
  {
   "cell_type": "markdown",
   "metadata": {},
   "source": [
    "### Configure resources\n",
    "\n",
    "Next, we will configure the resources so they are ready to use."
   ],
   "id": "c132a62d-056f-4f08-84fa-63b621ca49c2"
  },
  {
   "cell_type": "code",
   "execution_count": null,
   "metadata": {},
   "outputs": [],
   "source": [
    "slice = fablib.get_slice(name=slice_name)"
   ],
   "id": "1ac4d5a1-19bd-4de1-8824-caa9775e59e1"
  },
  {
   "cell_type": "code",
   "execution_count": null,
   "metadata": {},
   "outputs": [],
   "source": [
    "# install packages\n",
    "# this will take a while and will run in background while you do other steps\n",
    "for n in node_conf:\n",
    "    if len(n['packages']):\n",
    "        node = slice.get_node(n['name'])\n",
    "        pkg = \" \".join(n['packages'])\n",
    "        node.execute_thread(\"sudo apt update; sudo DEBIAN_FRONTEND=noninteractive apt -y install %s\" % pkg)"
   ],
   "id": "a81f9dfd-194d-43ef-870b-b129bdc2b7d7"
  },
  {
   "cell_type": "code",
   "execution_count": null,
   "metadata": {},
   "outputs": [],
   "source": [
    "# bring interfaces up and either assign an address (if there is one) or flush address\n",
    "from ipaddress import ip_address, IPv4Address, IPv4Network\n",
    "\n",
    "for net in net_conf:\n",
    "    for n in net['nodes']:\n",
    "        if_name = n['name'] + '-' + net['name'] + '-p1'\n",
    "        iface = slice.get_interface(if_name)\n",
    "        iface.ip_link_up()\n",
    "        if n['addr']:\n",
    "            iface.ip_addr_add(addr=n['addr'], subnet=IPv4Network(net['subnet']))\n",
    "        else:\n",
    "            iface.get_node().execute(\"sudo ip addr flush dev %s\"  % iface.get_device_name())"
   ],
   "id": "aff28996-b42f-40dc-bcf9-6a73fe028e34"
  },
  {
   "cell_type": "code",
   "execution_count": null,
   "metadata": {},
   "outputs": [],
   "source": [
    "# prepare a \"hosts\" file that has names and addresses of every node\n",
    "hosts_txt = [ \"%s\\t%s\" % ( n['addr'], n['name'] ) for net in net_conf  for n in net['nodes'] if type(n) is dict and n['addr']]\n",
    "for n in slice.get_nodes():\n",
    "    for h in hosts_txt:\n",
    "        n.execute(\"echo %s | sudo tee -a /etc/hosts\" % h)"
   ],
   "id": "04b77ea8-85a6-494b-b975-6cbe1bbdd63d"
  },
  {
   "cell_type": "code",
   "execution_count": null,
   "metadata": {},
   "outputs": [],
   "source": [
    "# enable IPv4 forwarding on all nodes\n",
    "for n in slice.get_nodes():\n",
    "    n.execute(\"sudo sysctl -w net.ipv4.ip_forward=1\")"
   ],
   "id": "9fbc5891-2da3-45a7-b0a4-25acbd817007"
  },
  {
   "cell_type": "code",
   "execution_count": null,
   "metadata": {},
   "outputs": [],
   "source": [
    "# set up static routes\n",
    "for rt in route_conf:\n",
    "    for n in rt['nodes']:\n",
    "        slice.get_node(name=n).ip_route_add(subnet=IPv4Network(rt['addr']), gateway=rt['gw'])"
   ],
   "id": "e8e300a4-3bce-42aa-886d-6841fa3ca87b"
  },
  {
   "cell_type": "code",
   "execution_count": null,
   "metadata": {},
   "outputs": [],
   "source": [
    "# turn off segmentation offload on interfaces\n",
    "for iface in slice.get_interfaces():\n",
    "    iface_name = iface.get_device_name()\n",
    "    n = iface.get_node()\n",
    "    offloads = [\"gro\", \"lro\", \"gso\", \"tso\"]\n",
    "    for offload in offloads:\n",
    "        n.execute(\"sudo ethtool -K %s %s off\" % (iface_name, offload))"
   ],
   "id": "8fdd830b-0b51-4ef5-be1f-5726320d0499"
  },
  {
   "cell_type": "code",
   "execution_count": null,
   "metadata": {},
   "outputs": [],
   "source": [
    "# enable nodes to access IPv4-only resources, such as Github,\n",
    "# even if the control interface is IPv6-only\n",
    "from ipaddress import ip_address, IPv6Address\n",
    "for node in slice.get_nodes():\n",
    "    if type(ip_address(node.get_management_ip())) is IPv6Address:\n",
    "        node.execute('echo \"DNS=2a00:1098:2c::1\" | sudo tee -a /etc/systemd/resolved.conf')\n",
    "        node.execute('sudo service systemd-resolved restart')\n",
    "        node.execute('echo \"127.0.0.1 $(hostname -s)\" | sudo tee -a /etc/hosts')\n",
    "        node.execute('sudo rm -f /etc/resolv.conf; sudo ln -sv /run/systemd/resolve/resolv.conf /etc/resolv.conf')"
   ],
   "id": "87496427-988f-4da6-b182-937222c26f88"
  },
  {
   "cell_type": "markdown",
   "metadata": {},
   "source": [
    "### Draw the network topology"
   ],
   "id": "d60f199b-62e0-48d2-aabf-fb84768263d8"
  },
  {
   "cell_type": "markdown",
   "metadata": {},
   "source": [
    "The following cell will draw the network topology, for your reference. The interface name and addresses of each experiment interface will be shown on the drawing."
   ],
   "id": "82cf08c1-0618-4173-aa04-25f133d62b76"
  },
  {
   "cell_type": "code",
   "execution_count": null,
   "metadata": {},
   "outputs": [],
   "source": [
    "l2_nets = [(n.get_name(), {'color': 'lavender'}) for n in slice.get_l2networks() ]\n",
    "l3_nets = [(n.get_name(), {'color': 'pink'}) for n in slice.get_l3networks() ]\n",
    "hosts   =   [(n.get_name(), {'color': 'lightblue'}) for n in slice.get_nodes()]\n",
    "nodes = l2_nets + l3_nets + hosts\n",
    "ifaces = [iface.toDict() for iface in slice.get_interfaces()]\n",
    "edges = [(iface['network'], iface['node'], \n",
    "          {'label': iface['physical_dev'] + '\\n' + iface['ip_addr'] + '\\n' + iface['mac']}) for iface in ifaces]"
   ],
   "id": "d7009020-7f0e-4342-8bf9-e9ddaa073802"
  },
  {
   "cell_type": "code",
   "execution_count": null,
   "metadata": {},
   "outputs": [],
   "source": [
    "import networkx as nx\n",
    "import matplotlib.pyplot as plt\n",
    "plt.figure(figsize=(len(nodes),len(nodes)))\n",
    "G = nx.Graph()\n",
    "G.add_nodes_from(nodes)\n",
    "G.add_edges_from(edges)\n",
    "pos = nx.spring_layout(G)\n",
    "nx.draw(G, pos, node_shape='s',  \n",
    "        node_color=[n[1]['color'] for n in nodes], \n",
    "        node_size=[len(n[0])*400 for n in nodes],  \n",
    "        with_labels=True);\n",
    "nx.draw_networkx_edge_labels(G,pos,\n",
    "                             edge_labels=nx.get_edge_attributes(G,'label'),\n",
    "                             font_color='gray',  font_size=8, rotate=False);"
   ],
   "id": "8d09f7f6-9543-46e1-aeca-7db15013b891"
  },
  {
   "cell_type": "markdown",
   "metadata": {},
   "source": [
    "### Log into resources"
   ],
   "id": "bc7b05dd-7b7d-414a-8ef6-acf81d66d42a"
  },
  {
   "cell_type": "markdown",
   "metadata": {},
   "source": [
    "Now, we are finally ready to log in to our resources over SSH! Run the following cells, and observe the table output - you will see an SSH command for each of the resources in your topology."
   ],
   "id": "02390839-bf61-4067-af77-4b49f341c6ac"
  },
  {
   "cell_type": "code",
   "execution_count": null,
   "metadata": {},
   "outputs": [],
   "source": [
    "import pandas as pd\n",
    "pd.set_option('display.max_colwidth', None)\n",
    "slice_info = [{'Name': n.get_name(), 'SSH command': n.get_ssh_command()} for n in slice.get_nodes()]\n",
    "pd.DataFrame(slice_info).set_index('Name')"
   ],
   "id": "5831b9e9-724d-4d57-b9da-c68bf3dc6fc0"
  },
  {
   "cell_type": "markdown",
   "metadata": {},
   "source": [
    "Now, you can open an SSH session on any of the resources as follows:\n",
    "\n",
    "-   in Jupyter, from the menu bar, use File \\> New \\> Terminal to open a new terminal.\n",
    "-   copy an SSH command from the table, and paste it into the terminal. (Note that each SSH command is a single line, even if the display wraps the text to a second line! When you copy and paste it, paste it all together.)\n",
    "\n",
    "You can repeat this process (open several terminals) to start a session on each resource. Each terminal session will have a tab in the Jupyter environment, so that you can easily switch between them."
   ],
   "id": "628324fe-6464-4664-89ee-17afb9930a02"
  },
  {
   "cell_type": "markdown",
   "metadata": {},
   "source": [
    "### Delete your slice"
   ],
   "id": "69f51bb2-e18a-442f-a6f5-4cfe22225b6f"
  },
  {
   "cell_type": "markdown",
   "metadata": {},
   "source": [
    "When you finish your experiment, you should delete your slice! The following cells deletes all the resources in your slice, freeing them for other experimenters."
   ],
   "id": "026ef9d5-0c4e-42cd-8d53-a9f63a20b48e"
  },
  {
   "cell_type": "code",
   "execution_count": null,
   "metadata": {},
   "outputs": [],
   "source": [
    "slice = fablib.get_slice(name=slice_name)\n",
    "fablib.delete_slice(slice_name)"
   ],
   "id": "c87829c3-4775-480b-98a3-2c0fddc79d64"
  },
  {
   "cell_type": "code",
   "execution_count": null,
   "metadata": {},
   "outputs": [],
   "source": [
    "# slice should end up in \"Dead\" state\n",
    "# re-run this cell until you see it in \"Dead\" state\n",
    "slice.update()\n",
    "_ = slice.show()"
   ],
   "id": "20259fff-624a-4440-bd87-d3e83cbe2173"
  }
 ],
 "nbformat": 4,
 "nbformat_minor": 5,
 "metadata": {}
}
